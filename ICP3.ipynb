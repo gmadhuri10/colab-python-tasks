{
  "nbformat": 4,
  "nbformat_minor": 0,
  "metadata": {
    "colab": {
      "provenance": [],
      "authorship_tag": "ABX9TyPmlQdbiEIQzAhy1rNz5nnW",
      "include_colab_link": true
    },
    "kernelspec": {
      "name": "python3",
      "display_name": "Python 3"
    },
    "language_info": {
      "name": "python"
    }
  },
  "cells": [
    {
      "cell_type": "markdown",
      "metadata": {
        "id": "view-in-github",
        "colab_type": "text"
      },
      "source": [
        "<a href=\"https://colab.research.google.com/github/gmadhuri10/colab-python-tasks/blob/main/ICP3.ipynb\" target=\"_parent\"><img src=\"https://colab.research.google.com/assets/colab-badge.svg\" alt=\"Open In Colab\"/></a>"
      ]
    },
    {
      "cell_type": "code",
      "source": [
        "from google.colab import drive\n",
        "drive.mount('/content/drive')"
      ],
      "metadata": {
        "colab": {
          "base_uri": "https://localhost:8080/"
        },
        "id": "wWENcwi3BKk6",
        "outputId": "cbaf3001-0a26-4268-fead-165663224123"
      },
      "execution_count": 1,
      "outputs": [
        {
          "output_type": "stream",
          "name": "stdout",
          "text": [
            "Mounted at /content/drive\n"
          ]
        }
      ]
    },
    {
      "cell_type": "code",
      "execution_count": 2,
      "metadata": {
        "colab": {
          "base_uri": "https://localhost:8080/"
        },
        "id": "MbvuSfF80gzR",
        "outputId": "dcaef6eb-be94-4e2f-bc27-d281438e42a1"
      },
      "outputs": [
        {
          "output_type": "stream",
          "name": "stdout",
          "text": [
            "Original array:\n",
            " [ 8 17 18  9 16  7  6  4  4 15 16  9  4 13 19]\n",
            "\n",
            "Reshaped array (3x5):\n",
            " [[ 8 17 18  9 16]\n",
            " [ 7  6  4  4 15]\n",
            " [16  9  4 13 19]]\n",
            "\n",
            "Array shape: (3, 5)\n",
            "\n",
            "Modified array (max in each row replaced by 0):\n",
            " [[ 8 17  0  9 16]\n",
            " [ 7  6  4  4  0]\n",
            " [16  9  4 13  0]]\n"
          ]
        }
      ],
      "source": [
        "import numpy as np\n",
        "\n",
        "# Create random vector of size 15 with integers from 1 to 20\n",
        "arr = np.random.randint(1, 21, size=15)\n",
        "print(\"Original array:\\n\", arr)\n",
        "\n",
        "# Reshape the array to 3x5\n",
        "reshaped_arr = arr.reshape(3, 5)\n",
        "print(\"\\nReshaped array (3x5):\\n\", reshaped_arr)\n",
        "\n",
        "# Print array shape\n",
        "print(\"\\nArray shape:\", reshaped_arr.shape)\n",
        "\n",
        "# Replace the max in each row by 0\n",
        "for i in range(reshaped_arr.shape[0]):\n",
        "    max_index = reshaped_arr[i].argmax()\n",
        "    reshaped_arr[i][max_index] = 0\n",
        "\n",
        "print(\"\\nModified array (max in each row replaced by 0):\\n\", reshaped_arr)\n"
      ]
    },
    {
      "cell_type": "code",
      "source": [
        "import numpy as np\n",
        "\n",
        "# Create a 4x3 array with 4-byte integer elements (int32)\n",
        "arr = np.arange(1, 13, dtype=np.int32).reshape(4, 3)\n",
        "\n",
        "# Print the array\n",
        "print(\"Array:\\n\", arr)\n",
        "\n",
        "# Print shape\n",
        "print(\"\\nShape of the array:\", arr.shape)\n",
        "\n",
        "# Print type\n",
        "print(\"Type of the array:\", type(arr))\n",
        "\n",
        "# Print data type\n",
        "print(\"Data type of the elements:\", arr.dtype)\n",
        "\n"
      ],
      "metadata": {
        "colab": {
          "base_uri": "https://localhost:8080/"
        },
        "id": "qfwKxK8c1OXG",
        "outputId": "0f2f40a7-fe41-4c15-d880-5d233bf575ec"
      },
      "execution_count": 3,
      "outputs": [
        {
          "output_type": "stream",
          "name": "stdout",
          "text": [
            "Array:\n",
            " [[ 1  2  3]\n",
            " [ 4  5  6]\n",
            " [ 7  8  9]\n",
            " [10 11 12]]\n",
            "\n",
            "Shape of the array: (4, 3)\n",
            "Type of the array: <class 'numpy.ndarray'>\n",
            "Data type of the elements: int32\n"
          ]
        }
      ]
    },
    {
      "cell_type": "code",
      "source": [
        "import numpy as np\n",
        "\n",
        "# Define the square matrix\n",
        "A = np.array([[3, -2],\n",
        "              [1,  0]])\n",
        "\n",
        "# Compute eigenvalues and right eigenvectors\n",
        "eigenvalues, eigenvectors = np.linalg.eig(A)\n",
        "\n",
        "# Display results\n",
        "print(\"Eigenvalues:\\n\", eigenvalues)\n",
        "print(\"\\nRight Eigenvectors (columns):\\n\", eigenvectors)\n"
      ],
      "metadata": {
        "colab": {
          "base_uri": "https://localhost:8080/"
        },
        "id": "IR8L5a1M1eIK",
        "outputId": "8d0a95fa-6171-4eb4-9490-6af9369ef9b9"
      },
      "execution_count": 4,
      "outputs": [
        {
          "output_type": "stream",
          "name": "stdout",
          "text": [
            "Eigenvalues:\n",
            " [2. 1.]\n",
            "\n",
            "Right Eigenvectors (columns):\n",
            " [[0.89442719 0.70710678]\n",
            " [0.4472136  0.70710678]]\n"
          ]
        }
      ]
    },
    {
      "cell_type": "code",
      "source": [
        "import numpy as np\n",
        "\n",
        "# Define the array\n",
        "arr = np.array([[0, 1, 2],\n",
        "                [3, 4, 5]])\n",
        "\n",
        "# Compute sum of diagonal elements\n",
        "diag_sum = np.trace(arr)\n",
        "\n",
        "print(\"Sum of diagonal elements:\", diag_sum)\n"
      ],
      "metadata": {
        "colab": {
          "base_uri": "https://localhost:8080/"
        },
        "id": "HMSI52if1oFl",
        "outputId": "76517001-33ec-405b-869d-d444f79e04de"
      },
      "execution_count": 5,
      "outputs": [
        {
          "output_type": "stream",
          "name": "stdout",
          "text": [
            "Sum of diagonal elements: 4\n"
          ]
        }
      ]
    },
    {
      "cell_type": "code",
      "source": [
        "import numpy as np\n",
        "\n",
        "# Original 3x2 array\n",
        "arr = np.array([[1, 2],\n",
        "                [3, 4],\n",
        "                [5, 6]])\n",
        "\n",
        "print(\"Original array (3x2):\\n\", arr)\n",
        "\n",
        "# Reshape to 2x3\n",
        "reshaped_arr = arr.reshape(2, 3)\n",
        "\n",
        "print(\"\\nReshaped array (2x3):\\n\", reshaped_arr)\n"
      ],
      "metadata": {
        "colab": {
          "base_uri": "https://localhost:8080/"
        },
        "id": "DRvQKgaH1vK5",
        "outputId": "cf7f0c64-1d4d-4886-d9c0-79f79e806c06"
      },
      "execution_count": 7,
      "outputs": [
        {
          "output_type": "stream",
          "name": "stdout",
          "text": [
            "Original array (3x2):\n",
            " [[1 2]\n",
            " [3 4]\n",
            " [5 6]]\n",
            "\n",
            "Reshaped array (2x3):\n",
            " [[1 2 3]\n",
            " [4 5 6]]\n"
          ]
        }
      ]
    }
  ]
}