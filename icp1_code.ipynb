{
  "nbformat": 4,
  "nbformat_minor": 0,
  "metadata": {
    "colab": {
      "provenance": [],
      "authorship_tag": "ABX9TyOj4XXwamGqFG7LemrFbLDH",
      "include_colab_link": true
    },
    "kernelspec": {
      "name": "python3",
      "display_name": "Python 3"
    },
    "language_info": {
      "name": "python"
    }
  },
  "cells": [
    {
      "cell_type": "markdown",
      "metadata": {
        "id": "view-in-github",
        "colab_type": "text"
      },
      "source": [
        "<a href=\"https://colab.research.google.com/github/gmadhuri10/colab-python-tasks/blob/main/icp1_code.ipynb\" target=\"_parent\"><img src=\"https://colab.research.google.com/assets/colab-badge.svg\" alt=\"Open In Colab\"/></a>"
      ]
    },
    {
      "cell_type": "code",
      "execution_count": 1,
      "metadata": {
        "colab": {
          "base_uri": "https://localhost:8080/"
        },
        "id": "XNZAgzRNIV4m",
        "outputId": "849d34b2-7269-42a2-cf88-3c1580acea6b"
      },
      "outputs": [
        {
          "output_type": "stream",
          "name": "stdout",
          "text": [
            "Mounted at /content/drive\n"
          ]
        }
      ],
      "source": [
        "from google.colab import drive\n",
        "drive.mount('/content/drive')"
      ]
    },
    {
      "cell_type": "code",
      "source": [
        "char_list = list(input(\"Enter the word (e.g., python): \"))\n",
        "\n",
        "# Ensure string has at least 2 characters to delete\n",
        "if len(char_list) < 2:\n",
        "    print(\"Not enough characters to delete.\")\n",
        "else:\n",
        "    del char_list[2]\n",
        "    del char_list[2]\n",
        "    # Reverse the resulting list\n",
        "    char_list.reverse()\n",
        "\n",
        "    # Print the result as a string\n",
        "    result = ''.join(char_list)\n",
        "    print(\"Result after deletions and reversing:\", result)\n",
        "\n",
        "\n",
        "# Part b: Arithmetic operations\n",
        "num1 = float(input(\"\\nEnter first number: \"))\n",
        "num2 = float(input(\"Enter second number: \"))\n",
        "\n",
        "print(\"\\nArithmetic Operations:\")\n",
        "print(f\"{num1} + {num2} = {num1 + num2}\")\n",
        "print(f\"{num1} - {num2} = {num1 - num2}\")\n",
        "print(f\"{num1} * {num2} = {num1 * num2}\")\n",
        "if num2 != 0:\n",
        "    print(f\"{num1} / {num2} = {num1 / num2}\")\n",
        "else:\n",
        "    print(\"Division by zero is not allowed.\")\n"
      ],
      "metadata": {
        "colab": {
          "base_uri": "https://localhost:8080/"
        },
        "id": "RT6CutLLJqCT",
        "outputId": "066dea89-8ab7-46c4-dda1-99b211ab9144"
      },
      "execution_count": 6,
      "outputs": [
        {
          "output_type": "stream",
          "name": "stdout",
          "text": [
            "Enter the word (e.g., python): python\n",
            "Result after deletions and reversing: noyp\n",
            "\n",
            "Enter first number: 2\n",
            "Enter second number: 3\n",
            "\n",
            "Arithmetic Operations:\n",
            "2.0 + 3.0 = 5.0\n",
            "2.0 - 3.0 = -1.0\n",
            "2.0 * 3.0 = 6.0\n",
            "2.0 / 3.0 = 0.6666666666666666\n"
          ]
        }
      ]
    },
    {
      "cell_type": "code",
      "source": [
        "# Accept sentence from user\n",
        "sentence = input(\"Enter a sentence: \")\n",
        "\n",
        "# Replace 'python' with 'pythons'\n",
        "updated_sentence = sentence.replace(\"python\", \"pythons\")\n",
        "\n",
        "# Print the result\n",
        "print(\"Updated sentence:\", updated_sentence)\n"
      ],
      "metadata": {
        "colab": {
          "base_uri": "https://localhost:8080/"
        },
        "id": "QRptJPsCMEDo",
        "outputId": "76a47dc2-2278-4931-9520-f1541ecd64c8"
      },
      "execution_count": 9,
      "outputs": [
        {
          "output_type": "stream",
          "name": "stdout",
          "text": [
            "Enter a sentence: I love playing with python\n",
            "Updated sentence: I love playing with pythons\n"
          ]
        }
      ]
    },
    {
      "cell_type": "code",
      "source": [
        "# Take score input from user\n",
        "score = float(input(\"Enter your class score (0–100): \"))\n",
        "\n",
        "# Check for valid range\n",
        "if score < 0 or score > 100:\n",
        "    print(\"Invalid score. Please enter a number between 0 and 100.\")\n",
        "else:\n",
        "    # Determine grade\n",
        "    if score >= 90:\n",
        "        grade = 'A'\n",
        "    elif score >= 80:\n",
        "        grade = 'B'\n",
        "    elif score >= 70:\n",
        "        grade = 'C'\n",
        "    elif score >= 60:\n",
        "        grade = 'D'\n",
        "    else:\n",
        "        grade = 'F'\n",
        "\n",
        "    # Print result\n",
        "    print(f\"Your grade is: {grade}\")\n"
      ],
      "metadata": {
        "colab": {
          "base_uri": "https://localhost:8080/"
        },
        "id": "7r2mOH6-MJtY",
        "outputId": "026275e3-5741-43d1-a07b-14b57a77ee6e"
      },
      "execution_count": 10,
      "outputs": [
        {
          "output_type": "stream",
          "name": "stdout",
          "text": [
            "Enter your class score (0–100): 98\n",
            "Your grade is: A\n"
          ]
        }
      ]
    },
    {
      "cell_type": "code",
      "source": [
        "# Input list\n",
        "x = [23, 'Python', 23.98]\n",
        "\n",
        "# Print original list\n",
        "print(x)\n",
        "\n",
        "# Create a list of types of each element\n",
        "types = [type(i) for i in x]\n",
        "\n",
        "# Print list of types\n",
        "print(types)\n"
      ],
      "metadata": {
        "colab": {
          "base_uri": "https://localhost:8080/"
        },
        "id": "6llVqk5AMJ0K",
        "outputId": "59ce4560-54af-436d-dada-a8bb6baca84b"
      },
      "execution_count": 11,
      "outputs": [
        {
          "output_type": "stream",
          "name": "stdout",
          "text": [
            "[23, 'Python', 23.98]\n",
            "[<class 'int'>, <class 'str'>, <class 'float'>]\n"
          ]
        }
      ]
    },
    {
      "cell_type": "code",
      "source": [
        "# Initial sets and list\n",
        "IT_companies = {'Facebook', 'Google', 'Microsoft', 'Apple', 'IBM', 'Oracle', 'Amazon'}\n",
        "A = {19, 22, 24, 20, 25, 26}\n",
        "B = {19, 22, 20, 25, 26, 24, 28, 27}\n",
        "age = [22, 19, 24, 25, 26, 24, 25, 24]\n",
        "\n",
        "# Find the length of the set IT_companies\n",
        "print(\"Length of IT_companies:\", len(IT_companies))\n",
        "\n",
        "# Add 'Twitter' to IT_companies\n",
        "IT_companies.add('Twitter')\n",
        "print(\"After adding Twitter:\", IT_companies)\n",
        "\n",
        "# Insert multiple IT companies at once to the set IT_companies\n",
        "IT_companies.update(['TCS', 'Infosys', 'Wipro'])\n",
        "print(\"After adding multiple companies:\", IT_companies)\n",
        "\n",
        "# Remove one of the companies from the set IT_companies\n",
        "IT_companies.remove('Oracle')  # Will raise error if 'Oracle' not found\n",
        "print(\"After removing Oracle:\", IT_companies)\n",
        "\n",
        "# Difference between remove and discard\n",
        "print(\"\"\"\n",
        "'difference between remove and discard':\n",
        "- remove() raises an error if the item is not found.\n",
        "- discard() does not raise an error if the item is not found.\n",
        "\"\"\")\n",
        "\n",
        "# Join A and B\n",
        "print(\"A union B:\", A.union(B))\n",
        "\n",
        "# Find A intersection B\n",
        "print(\"A intersection B:\", A.intersection(B))\n",
        "\n",
        "# Is A subset of B\n",
        "print(\"Is A subset of B?\", A.issubset(B))\n",
        "\n",
        "# Are A and B disjoint sets\n",
        "print(\"Are A and B disjoint?\", A.isdisjoint(B))\n",
        "\n",
        "# Join A with B and B with A\n",
        "print(\"A union B:\", A.union(B))\n",
        "print(\"B union A:\", B.union(A))  # Same as A.union(B)\n",
        "\n",
        "# What is the symmetric difference between A and B\n",
        "print(\"Symmetric difference:\", A.symmetric_difference(B))\n",
        "\n",
        "# Delete the sets completely\n",
        "del A\n",
        "del B\n",
        "\n",
        "# Convert the ages to a set and compare the length of the list and the set\n",
        "age_set = set(age)\n",
        "print(\"Length of age list:\", len(age))\n",
        "print(\"Length of age set:\", len(age_set))\n"
      ],
      "metadata": {
        "colab": {
          "base_uri": "https://localhost:8080/"
        },
        "id": "UUMJewbeMk9K",
        "outputId": "908a8e34-6056-483c-8acd-3753dfe80d87"
      },
      "execution_count": 13,
      "outputs": [
        {
          "output_type": "stream",
          "name": "stdout",
          "text": [
            "Length of IT_companies: 7\n",
            "After adding Twitter: {'Facebook', 'Oracle', 'Microsoft', 'Amazon', 'IBM', 'Google', 'Twitter', 'Apple'}\n",
            "After adding multiple companies: {'Oracle', 'Facebook', 'Microsoft', 'IBM', 'Google', 'Wipro', 'Apple', 'Amazon', 'Twitter', 'Infosys', 'TCS'}\n",
            "After removing Oracle: {'Facebook', 'Microsoft', 'IBM', 'Google', 'Wipro', 'Apple', 'Amazon', 'Twitter', 'Infosys', 'TCS'}\n",
            "\n",
            "'difference between remove and discard':\n",
            "- remove() raises an error if the item is not found.\n",
            "- discard() does not raise an error if the item is not found.\n",
            "\n",
            "A union B: {19, 20, 22, 24, 25, 26, 27, 28}\n",
            "A intersection B: {19, 20, 22, 24, 25, 26}\n",
            "Is A subset of B? True\n",
            "Are A and B disjoint? False\n",
            "A union B: {19, 20, 22, 24, 25, 26, 27, 28}\n",
            "B union A: {19, 20, 22, 24, 25, 26, 27, 28}\n",
            "Symmetric difference: {27, 28}\n",
            "Length of age list: 8\n",
            "Length of age set: 5\n"
          ]
        }
      ]
    }
  ]
}