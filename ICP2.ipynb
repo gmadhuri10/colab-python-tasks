{
  "nbformat": 4,
  "nbformat_minor": 0,
  "metadata": {
    "colab": {
      "provenance": [],
      "authorship_tag": "ABX9TyOfFYkLCE3v8GpwZwLYTXUs",
      "include_colab_link": true
    },
    "kernelspec": {
      "name": "python3",
      "display_name": "Python 3"
    },
    "language_info": {
      "name": "python"
    }
  },
  "cells": [
    {
      "cell_type": "markdown",
      "metadata": {
        "id": "view-in-github",
        "colab_type": "text"
      },
      "source": [
        "<a href=\"https://colab.research.google.com/github/gmadhuri10/colab-python-tasks/blob/main/ICP2.ipynb\" target=\"_parent\"><img src=\"https://colab.research.google.com/assets/colab-badge.svg\" alt=\"Open In Colab\"/></a>"
      ]
    },
    {
      "cell_type": "code",
      "source": [
        "from google.colab import drive\n",
        "drive.mount('/content/drive')"
      ],
      "metadata": {
        "colab": {
          "base_uri": "https://localhost:8080/"
        },
        "id": "l-623dc3MlHs",
        "outputId": "e9c8bc98-c909-4d7e-fcc2-9d30722006af"
      },
      "execution_count": 12,
      "outputs": [
        {
          "output_type": "stream",
          "name": "stdout",
          "text": [
            "Mounted at /content/drive\n"
          ]
        }
      ]
    },
    {
      "cell_type": "code",
      "execution_count": 1,
      "metadata": {
        "colab": {
          "base_uri": "https://localhost:8080/"
        },
        "id": "yU_x-YIGIH9E",
        "outputId": "b2497a9b-99e9-4da0-c6bd-f08d352c1685"
      },
      "outputs": [
        {
          "output_type": "stream",
          "name": "stdout",
          "text": [
            "Sum of 1, 2, 3 is: 6\n",
            "Sum of 4, 5, 6, 7 is: 22\n"
          ]
        }
      ],
      "source": [
        "def sum_all(*args):\n",
        "    return sum(args)\n",
        "\n",
        "print(\"Sum of 1, 2, 3 is:\", sum_all(1, 2, 3))\n",
        "print(\"Sum of 4, 5, 6, 7 is:\", sum_all(4, 5, 6, 7))\n"
      ]
    },
    {
      "cell_type": "code",
      "source": [
        "def first_word(words):\n",
        "    # Sort the list alphabetically\n",
        "    words.sort()\n",
        "    return words[0]\n",
        "\n",
        "input_string = input(\"Enter names separated by commas: \")\n",
        "\n",
        "words_list = [name.strip() for name in input_string.split(',')]\n",
        "\n",
        "print(\"First word alphabetically is:\", first_word(words_list))\n"
      ],
      "metadata": {
        "colab": {
          "base_uri": "https://localhost:8080/"
        },
        "id": "_Swo5Fb5JQQ0",
        "outputId": "2e8a6a38-da58-4984-9393-6d2be6d5bb92"
      },
      "execution_count": 9,
      "outputs": [
        {
          "output_type": "stream",
          "name": "stdout",
          "text": [
            "Enter names separated by commas: madhu, anu, bhanu, chandhu\n",
            "First word alphabetically is: anu\n"
          ]
        }
      ]
    },
    {
      "cell_type": "code",
      "source": [
        "class Employee:\n",
        "    employee_count = 0\n",
        "    all_salaries = []\n",
        "\n",
        "    def __init__(self, name, family, salary, department):\n",
        "        self.name = name\n",
        "        self.family = family\n",
        "        self.salary = salary\n",
        "        self.department = department\n",
        "\n",
        "        Employee.employee_count += 1\n",
        "        Employee.all_salaries.append(salary)\n",
        "\n",
        "    def average_salary(self):\n",
        "        if Employee.all_salaries:\n",
        "            avg = sum(Employee.all_salaries) / len(Employee.all_salaries)\n",
        "            return round(avg, 2)\n",
        "        return 0\n",
        "\n",
        "class FulltimeEmployee(Employee):\n",
        "    def __init__(self, name, family, salary, department):\n",
        "        super().__init__(name, family, salary, department)\n",
        "\n",
        "\n",
        "e1 = Employee(\"Alice\", \"Smith\", 50000, \"HR\")\n",
        "e2 = FulltimeEmployee(\"Bob\", \"Johnson\", 70000, \"Engineering\")\n",
        "e3 = FulltimeEmployee(\"Charlie\", \"Brown\", 60000, \"Sales\")\n",
        "\n",
        "print(\"Total number of employees:\", Employee.employee_count)\n",
        "print(\"Average salary of all employees:\", e1.average_salary())\n",
        "\n",
        "print(f\"{e2.name} works in {e2.department} with a salary of ${e2.salary}\")\n",
        "print(f\"{e3.name} works in {e3.department} with a salary of ${e3.salary}\")\n"
      ],
      "metadata": {
        "colab": {
          "base_uri": "https://localhost:8080/"
        },
        "id": "J6X74NHiKCL3",
        "outputId": "4dd1a7cd-83b6-43fe-e664-555be0442910"
      },
      "execution_count": 10,
      "outputs": [
        {
          "output_type": "stream",
          "name": "stdout",
          "text": [
            "Total number of employees: 3\n",
            "Average salary of all employees: 60000.0\n",
            "Bob works in Engineering with a salary of $70000\n",
            "Charlie works in Sales with a salary of $60000\n"
          ]
        }
      ]
    }
  ]
}